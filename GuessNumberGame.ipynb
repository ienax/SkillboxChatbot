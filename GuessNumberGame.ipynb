{
 "cells": [
  {
   "cell_type": "markdown",
   "metadata": {},
   "source": [
    "# Игра \"Угадай число\" на Python\n",
    "\n",
    "### Code on Repl.it:\n",
    "### https://repl.it/@Levashov/GuessNumberGame"
   ]
  },
  {
   "cell_type": "code",
   "execution_count": 2,
   "metadata": {},
   "outputs": [
    {
     "name": "stdout",
     "output_type": "stream",
     "text": [
      "Загадай число от 1 до 1000...\n",
      "Загадал?\n",
      "Тогда поехали!\n",
      "\n",
      "Если я угадаю, напиши \"=\",\n",
      "если твое число меньше, то введи \"<\",\n",
      "а если больше, то \">\".\n",
      "И нажми на Enter.\n",
      "\n",
      "Это 500? ,ashjbljksda\n",
      "Если я угадаю, напиши \"=\",\n",
      "если твое число меньше, то введи \"<\",\n",
      "а если больше, то \">\".\n",
      "И нажми на Enter.\n",
      "\n",
      "Это 500? <\n",
      "Это 250? <\n",
      "Это 125? <\n",
      "Это 62? <\n",
      "Это 31? <\n",
      "Это 15? <\n",
      "Это 7? <\n",
      "Это 3? <\n",
      "Это 1? <\n",
      "Произошел конфуз...\n",
      "Попробуй заново\n"
     ]
    }
   ],
   "source": [
    "# Настройки\n",
    "a = 1\n",
    "b = 1000\n",
    "print(f'Загадай число от {a} до {b}...')\n",
    "\n",
    "# Даем время на подумать\n",
    "import time\n",
    "time.sleep(1)\n",
    "print('Загадал?')\n",
    "time.sleep(1)\n",
    "print('Тогда поехали!')\n",
    "print()\n",
    "time.sleep(1)\n",
    "rules = '''Если я угадаю, напиши \"=\",\n",
    "если твое число меньше, то введи \"<\",\n",
    "а если больше, то \">\".\n",
    "И нажми на Enter.\n",
    "'''\n",
    "print(rules)\n",
    "time.sleep(1)\n",
    "\n",
    "# Отгадываем\n",
    "steps = 0\n",
    "\n",
    "while True:\n",
    "    if a > b:\n",
    "        print('Произошел конфуз...')\n",
    "        print('Попробуй заново')\n",
    "        break\n",
    "    if a == b:\n",
    "        print(f'Все понятно. Ответ - {a}')\n",
    "        print(f'Потребовалось шагов: {steps}')\n",
    "        break\n",
    "\n",
    "    steps += 1\n",
    "\n",
    "    number = (a + b) // 2\n",
    "    answer = input(f'Это {number}? ')\n",
    "\n",
    "    if answer == '=':\n",
    "        print('Ура! Я отгадал!')\n",
    "        print(f'Потребовалось шагов: {steps}')\n",
    "        break\n",
    "    elif answer == '<':\n",
    "        b = number - 1\n",
    "    elif answer == '>':\n",
    "        a = number + 1\n",
    "    else:\n",
    "        print(rules)\n",
    "        steps -= 1"
   ]
  },
  {
   "cell_type": "code",
   "execution_count": null,
   "metadata": {},
   "outputs": [],
   "source": []
  },
  {
   "cell_type": "code",
   "execution_count": 3,
   "metadata": {},
   "outputs": [
    {
     "data": {
      "text/plain": [
       "10"
      ]
     },
     "execution_count": 3,
     "metadata": {},
     "output_type": "execute_result"
    }
   ],
   "source": [
    "10"
   ]
  },
  {
   "cell_type": "code",
   "execution_count": 5,
   "metadata": {},
   "outputs": [],
   "source": [
    "a = 10.2"
   ]
  },
  {
   "cell_type": "code",
   "execution_count": 7,
   "metadata": {},
   "outputs": [
    {
     "name": "stdout",
     "output_type": "stream",
     "text": [
      "10.2\n"
     ]
    }
   ],
   "source": [
    "print(a)"
   ]
  },
  {
   "cell_type": "code",
   "execution_count": 9,
   "metadata": {},
   "outputs": [
    {
     "data": {
      "text/plain": [
       "False"
      ]
     },
     "execution_count": 9,
     "metadata": {},
     "output_type": "execute_result"
    }
   ],
   "source": [
    "True\n",
    "False"
   ]
  },
  {
   "cell_type": "code",
   "execution_count": 11,
   "metadata": {},
   "outputs": [],
   "source": [
    "None"
   ]
  },
  {
   "cell_type": "code",
   "execution_count": null,
   "metadata": {},
   "outputs": [],
   "source": []
  },
  {
   "cell_type": "code",
   "execution_count": 12,
   "metadata": {},
   "outputs": [],
   "source": [
    "a = 'Привет'"
   ]
  },
  {
   "cell_type": "code",
   "execution_count": 23,
   "metadata": {},
   "outputs": [
    {
     "name": "stdout",
     "output_type": "stream",
     "text": [
      "Hello World!\n"
     ]
    }
   ],
   "source": [
    "i = input()"
   ]
  },
  {
   "cell_type": "code",
   "execution_count": 25,
   "metadata": {},
   "outputs": [
    {
     "name": "stdout",
     "output_type": "stream",
     "text": [
      "Hello World! <class 'str'>\n"
     ]
    }
   ],
   "source": [
    "print(i, type(i))"
   ]
  },
  {
   "cell_type": "code",
   "execution_count": 29,
   "metadata": {},
   "outputs": [
    {
     "name": "stdout",
     "output_type": "stream",
     "text": [
      "hello world! HELLO WORLD! ['Hello', 'World!']\n"
     ]
    }
   ],
   "source": [
    "print(i.lower(), i.upper(), i.split())"
   ]
  },
  {
   "cell_type": "code",
   "execution_count": 38,
   "metadata": {},
   "outputs": [
    {
     "data": {
      "text/plain": [
       "12"
      ]
     },
     "execution_count": 38,
     "metadata": {},
     "output_type": "execute_result"
    }
   ],
   "source": [
    "len(i)"
   ]
  },
  {
   "cell_type": "code",
   "execution_count": null,
   "metadata": {},
   "outputs": [],
   "source": []
  },
  {
   "cell_type": "code",
   "execution_count": 31,
   "metadata": {},
   "outputs": [],
   "source": [
    "l = [1, 2.9, '123abc', [2, 1]]"
   ]
  },
  {
   "cell_type": "code",
   "execution_count": 40,
   "metadata": {},
   "outputs": [
    {
     "data": {
      "text/plain": [
       "2"
      ]
     },
     "execution_count": 40,
     "metadata": {},
     "output_type": "execute_result"
    }
   ],
   "source": [
    "l[-1][0]"
   ]
  },
  {
   "cell_type": "code",
   "execution_count": 41,
   "metadata": {},
   "outputs": [
    {
     "data": {
      "text/plain": [
       "4"
      ]
     },
     "execution_count": 41,
     "metadata": {},
     "output_type": "execute_result"
    }
   ],
   "source": [
    "len(l)"
   ]
  },
  {
   "cell_type": "code",
   "execution_count": null,
   "metadata": {},
   "outputs": [],
   "source": []
  },
  {
   "cell_type": "code",
   "execution_count": 45,
   "metadata": {},
   "outputs": [],
   "source": [
    "BOT_CONFIG = {\n",
    "    'intents': {\n",
    "\n",
    "        'hello': {\n",
    "            'examples': ['Привет', 'Добрый день', 'Здраствуйте!', 'Шалом'],\n",
    "            'responses': ['Привет, юзер!', 'Здраствуй']\n",
    "        },\n",
    "        'goodbye': {\n",
    "            'examples': ['Пока', 'Всего доброго', 'До свидания'],\n",
    "            'responses': ['Пока', 'Счастливо!']\n",
    "        },\n",
    "        'thanks': {\n",
    "            'examples': ['Спасибо', 'Спасибо большое!', 'Сенкс', 'Благодарю'],\n",
    "            'responses': ['Вам спасибо!']\n",
    "        },\n",
    "        'whatcanyoudo': {\n",
    "            'examples': ['Что ты умеешь?', 'Расскажи что умеешь'],\n",
    "            'responses': ['Отвечать на вопросы. Просто напиши :)']\n",
    "        },\n",
    "        'name': {\n",
    "            'examples': ['Как тебя зовут?', 'Твое имя?'],\n",
    "            'responses': ['Меня зовут бот. Просто бот.']\n",
    "        },\n",
    "        'weather': {\n",
    "            'examples': ['Какая погода в МОскве?', 'Какая погода?'],\n",
    "            'responses': ['Погода так себе...']\n",
    "        }\n",
    "\n",
    "    },\n",
    "\n",
    "    'failure_phrases': [\n",
    "        'Я не знаю, что ответить',\n",
    "        'Не поняла вас',\n",
    "        'Переформулируйте пожалуйста',\n",
    "    ]\n",
    "}"
   ]
  },
  {
   "cell_type": "code",
   "execution_count": null,
   "metadata": {},
   "outputs": [],
   "source": []
  },
  {
   "cell_type": "code",
   "execution_count": 37,
   "metadata": {},
   "outputs": [
    {
     "data": {
      "text/plain": [
       "'thanks'"
      ]
     },
     "execution_count": 37,
     "metadata": {},
     "output_type": "execute_result"
    }
   ],
   "source": [
    "BOT_CONFIG['intents'][2]"
   ]
  },
  {
   "cell_type": "code",
   "execution_count": null,
   "metadata": {},
   "outputs": [],
   "source": []
  }
 ],
 "metadata": {
  "kernelspec": {
   "display_name": "Python 3",
   "language": "python",
   "name": "python3"
  },
  "language_info": {
   "codemirror_mode": {
    "name": "ipython",
    "version": 3
   },
   "file_extension": ".py",
   "mimetype": "text/x-python",
   "name": "python",
   "nbconvert_exporter": "python",
   "pygments_lexer": "ipython3",
   "version": "3.7.6"
  }
 },
 "nbformat": 4,
 "nbformat_minor": 4
}
